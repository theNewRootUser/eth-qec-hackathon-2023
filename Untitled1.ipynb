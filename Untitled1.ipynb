{
 "cells": [
  {
   "cell_type": "code",
   "execution_count": 1,
   "id": "f2b53043-16b8-42dd-8810-4c17942169cc",
   "metadata": {},
   "outputs": [],
   "source": [
    "import pennylane as qml\n",
    "from pennylane import numpy as np\n",
    "from pennylane.optimize import NesterovMomentumOptimizer"
   ]
  },
  {
   "cell_type": "code",
   "execution_count": 90,
   "id": "74512e92-30bf-42c5-8e05-8bdb1821c367",
   "metadata": {},
   "outputs": [],
   "source": [
    "def get_winner(board):\n",
    "    # Check the board for any winning combinations\n",
    "    winning_combinations = [\n",
    "        # Rows\n",
    "        (0, 1, 2),\n",
    "        (3, 4, 5),\n",
    "        (6, 7, 8),\n",
    "        # Columns\n",
    "        (0, 3, 6),\n",
    "        (1, 4, 7),\n",
    "        (2, 5, 8),\n",
    "        # Diagonals\n",
    "        (0, 4, 8),\n",
    "        (2, 4, 6),\n",
    "    ]\n",
    "\n",
    "    x_wins = False\n",
    "    o_wins = False\n",
    "\n",
    "    for combo in winning_combinations:\n",
    "        if board[combo[0]] == board[combo[1]] == board[combo[2]] and board[combo[0]] != '':\n",
    "            if board[combo[0]] == 'x':\n",
    "                return [0, 0, 1]\n",
    "            else:\n",
    "                return [1, 0, 0]\n",
    "    return [0, 1, 0]\n",
    "\n",
    "#This function checks for a couple of things, length of the board,\n",
    "def is_valid_tic_tac_toe(board):\n",
    "    # Check that the board has exactly 9 elements\n",
    "    if len(board) != 9:\n",
    "        return False\n",
    "\n",
    "    # Count the number of 'x' and 'o' on the board\n",
    "    count_x = board.count('x')\n",
    "    count_o = board.count('o')\n",
    "\n",
    "    # Check that the difference in count between 'x' and 'o' is 0 or 1\n",
    "    if abs(count_x - count_o) > 1:\n",
    "        return False\n",
    "\n",
    "    # Check the board for any winning combinations\n",
    "    winning_combinations = [\n",
    "        # Rows\n",
    "        (0, 1, 2),\n",
    "        (3, 4, 5),\n",
    "        (6, 7, 8),\n",
    "        # Columns\n",
    "        (0, 3, 6),\n",
    "        (1, 4, 7),\n",
    "        (2, 5, 8),\n",
    "        # Diagonals\n",
    "        (0, 4, 8),\n",
    "        (2, 4, 6),\n",
    "    ]\n",
    "\n",
    "    x_wins = False\n",
    "    o_wins = False\n",
    "\n",
    "    for combo in winning_combinations:\n",
    "        if board[combo[0]] == board[combo[1]] == board[combo[2]] and board[combo[0]] != '':\n",
    "            if board[combo[0]] == 'x':\n",
    "                x_wins = True\n",
    "            else:\n",
    "                o_wins = True\n",
    "\n",
    "    # Check if both 'x' and 'o' won or if neither won\n",
    "    if x_wins and o_wins or (not x_wins and not o_wins):\n",
    "        return False\n",
    "\n",
    "    # Check that the board is a valid final board configuration\n",
    "    if (x_wins and count_x != count_o + 1) or (o_wins and count_x != count_o):\n",
    "        return False\n",
    "    # All checks have passed, so the board is valid\n",
    "    return True\n",
    "\n",
    "\n",
    "def generate_tic_tac_toe_configs():\n",
    "    valid_configs = []\n",
    "    winners = []\n",
    "\n",
    "    # Generate all possible configurations of the board\n",
    "    for i in range(3 ** 9):\n",
    "        board = []\n",
    "        for j in range(9):\n",
    "            symbol = ''\n",
    "            if i % 3 == 0:\n",
    "                symbol = 'x'\n",
    "            elif i % 3 == 1:\n",
    "                symbol = 'o'\n",
    "            board.append(symbol)\n",
    "            i //= 3\n",
    "\n",
    "        # Check if the configuration is valid\n",
    "        if is_valid_tic_tac_toe(board):\n",
    "            valid_configs.append(board)\n",
    "            winners.append(get_winner(board))\n",
    "\n",
    "    return valid_configs, winners\n",
    "\n",
    "boards, winners = generate_tic_tac_toe_configs()\n",
    "\n",
    "import pennylane as qml\n",
    "from pennylane import numpy as np\n",
    "\n",
    "def encode_data(tic_tac_toe_field):\n",
    "    # data_g = [1 if entry == 'x' else -1 if entry == 'o' else 0 for entry in tic_tac_toe_field]\n",
    "    for entry, index in zip(tic_tac_toe_field, range(len(tic_tac_toe_field))):\n",
    "        qml.RX(entry, wires=[index])\n",
    "        #print(qml.RX(entry * 2 * np.pi / 3, wires=[index]))\n",
    "\n",
    "    return\n",
    "\n",
    "\n",
    "def add_single_qubit_gates(params):\n",
    "    # define edges centers and lats.\n",
    "    edges = [0, 2, 6, 8]\n",
    "    lats = [1, 3, 5, 7]\n",
    "    center = 4\n",
    "\n",
    "    for i in edges:\n",
    "        qml.RX(params[0], wires=[i])\n",
    "        qml.RY(params[1], wires=[i])\n",
    "    for i in lats:\n",
    "        qml.RX(params[2], wires=[i])\n",
    "        qml.RY(params[3], wires=[i])\n",
    "\n",
    "\n",
    "    qml.RX(params[4], wires=[center])\n",
    "    qml.RY(params[5], wires=[center])\n",
    "\n",
    "    return\n",
    "\n",
    "def add_two_qubit_gates(params):\n",
    "    # corners (green)\n",
    "    corner_qubits = [0, 2, 6, 8]\n",
    "    edge_qubits = [1, 3, 5, 7]\n",
    "    center_qubit = 4\n",
    "\n",
    "\n",
    "    # yellow two-qubit gates\n",
    "    for i in range(4):\n",
    "        qml.CPhase(params[2], wires=[4, edge_qubits[i]])\n",
    "\n",
    "\n",
    "    # red two-qubit gates, hard coded\n",
    "    qml.CPhase(params[1], wires=[1, 0])\n",
    "    qml.CPhase(params[1], wires=[1, 2])\n",
    "    qml.CPhase(params[1], wires=[3, 0])\n",
    "    qml.CPhase(params[1], wires=[3, 6])\n",
    "    qml.CPhase(params[1], wires=[5, 2])\n",
    "    qml.CPhase(params[1], wires=[5, 8])\n",
    "    qml.CPhase(params[1], wires=[7, 6])\n",
    "    qml.CPhase(params[1], wires=[7, 8])\n",
    "\n",
    "    # green two-qubit gates, hard coded\n",
    "    qml.CPhase(params[0], wires=[0, 4])\n",
    "    qml.CPhase(params[0], wires=[2, 4])\n",
    "    qml.CPhase(params[0], wires=[6, 4])\n",
    "    qml.CPhase(params[0], wires=[8, 4])\n",
    "\n",
    "    return"
   ]
  },
  {
   "cell_type": "code",
   "execution_count": 102,
   "id": "b88a9b68-09e2-4314-9b17-4ad7f21b527e",
   "metadata": {},
   "outputs": [
    {
     "name": "stdout",
     "output_type": "stream",
     "text": [
      "ok\n"
     ]
    }
   ],
   "source": [
    "### SO FAR SO GOOD ###\n",
    "\n",
    "print(\"ok\")\n",
    "\n",
    "obs_ZIZIIIZIZ = 0.25 * qml.PauliZ(0) @ qml.PauliZ(2) @ qml.PauliZ(6) @ qml.PauliZ(8)\n",
    "obs_IIIIZIIII = qml.PauliZ(4)\n",
    "obs_IZIZIZIZI = 0.25 * qml.PauliZ(1) @ qml.PauliZ(3) @ qml.PauliZ(5) @ qml.PauliZ(7)\n",
    "\n",
    "observables = (obs_ZIZIIIZIZ,)# obs_IIIIZIIII, obs_IZIZIZIZI)\n",
    "\n",
    "dev = qml.device(\"default.qubit\", wires=9)\n",
    "@qml.qnode(dev)\n",
    "def circuit(params, tactoe):\n",
    "    encode_data(tactoe)\n",
    "    add_single_qubit_gates(params[:6])\n",
    "    add_two_qubit_gates(params[6:])\n",
    "    return qml.expval(obs_ZIZIIIZIZ)#, qml.expval(obs_IIIIZIIII), qml.expval(obs_IZIZIZIZI)\n",
    "\n",
    "tictac = ['x', 'o', '', '', '', '', '', '', '']\n",
    "total_params=[0.2,0.3,0.2,0.4,0.5, 0.6, 0.2,0.3,0.2]"
   ]
  },
  {
   "cell_type": "code",
   "execution_count": 104,
   "id": "f63325c5-eb78-4300-9cae-075c029f987a",
   "metadata": {},
   "outputs": [],
   "source": [
    "##SETUP OF THE LABELS AND TRAININGS\n",
    "\n",
    "x = np.array([[0 if e == '' else 2*np.pi/3 if e == 'x' else -2*np.pi/3 for e in b] for b in boards])\n",
    "y = np.array(winners)[:,0]\n",
    "\n",
    "# shuffle the indices\n",
    "shuffle_indices = np.random.permutation(len(x))\n",
    "train_size = int(len(x) * 0.3)\n",
    "\n",
    "# split the indices into training and testing sets\n",
    "train_indices = np.array(shuffle_indices[:train_size])\n",
    "test_indices = np.array(shuffle_indices[train_size:])\n",
    "\n",
    "# create the training and testing sets\n",
    "X, Y = np.take(x, train_indices, axis=0), np.take(y, train_indices, axis=0)\n",
    "x_test, y_test = np.take(x, test_indices, axis=0), np.take(y, test_indices, axis=0)"
   ]
  },
  {
   "cell_type": "code",
   "execution_count": 103,
   "id": "4144fa82-47b3-4e46-af2c-d8e0aefd47e4",
   "metadata": {},
   "outputs": [
    {
     "name": "stdout",
     "output_type": "stream",
     "text": [
      "Example train data:  [ 0.         2.0943951  2.0943951  2.0943951  2.0943951 -2.0943951\n",
      " -2.0943951 -2.0943951 -2.0943951] 1\n"
     ]
    },
    {
     "ename": "TypeError",
     "evalue": "iteration over a 0-d array",
     "output_type": "error",
     "traceback": [
      "\u001b[1;31m---------------------------------------------------------------------------\u001b[0m",
      "\u001b[1;31mTypeError\u001b[0m                                 Traceback (most recent call last)",
      "Cell \u001b[1;32mIn[103], line 20\u001b[0m\n\u001b[0;32m     16\u001b[0m x_test, y_test \u001b[38;5;241m=\u001b[39m np\u001b[38;5;241m.\u001b[39mtake(x, test_indices, axis\u001b[38;5;241m=\u001b[39m\u001b[38;5;241m0\u001b[39m), np\u001b[38;5;241m.\u001b[39mtake(y, test_indices, axis\u001b[38;5;241m=\u001b[39m\u001b[38;5;241m0\u001b[39m)\n\u001b[0;32m     18\u001b[0m \u001b[38;5;28mprint\u001b[39m(\u001b[38;5;124m\"\u001b[39m\u001b[38;5;124mExample train data: \u001b[39m\u001b[38;5;124m\"\u001b[39m, X[\u001b[38;5;241m17\u001b[39m], Y[\u001b[38;5;241m17\u001b[39m])\n\u001b[1;32m---> 20\u001b[0m circ1, circ2, circ3 \u001b[38;5;241m=\u001b[39m circuit(total_params, X[\u001b[38;5;241m17\u001b[39m])\n\u001b[0;32m     21\u001b[0m expectation \u001b[38;5;241m=\u001b[39m (circ1, circ2, circ3)\n\u001b[0;32m     22\u001b[0m \u001b[38;5;28mprint\u001b[39m(expectation)\n",
      "\u001b[1;31mTypeError\u001b[0m: iteration over a 0-d array"
     ]
    }
   ],
   "source": [
    "print(\"Example train data: \", X[17], Y[17])\n",
    "\n",
    "circ1, circ2, circ3 = circuit(total_params, X[17])\n",
    "expectation = (circ1, circ2, circ3)\n",
    "print(expectation)"
   ]
  },
  {
   "cell_type": "code",
   "execution_count": 112,
   "id": "aa200985-66aa-484b-a9bf-928160bb39f9",
   "metadata": {},
   "outputs": [],
   "source": [
    "##DEFINE A COST FUNCTION\n",
    "\n",
    "def variational_classifier(weights, bias, x):\n",
    "    return circuit(weights, x) + bias\n",
    "\n",
    "def square_loss(labels, predictions):\n",
    "    loss = 0\n",
    "    for l, p in zip(labels, predictions):\n",
    "        loss = loss + (l - p) ** 2\n",
    "\n",
    "    loss = loss / len(labels)\n",
    "    return loss\n",
    "\n",
    "def accuracy(labels, predictions):\n",
    "\n",
    "    loss = 0\n",
    "    for l, p in zip(labels, predictions):\n",
    "        if abs(l - p) < 1e-5:\n",
    "            loss = loss + 1\n",
    "    loss = loss / len(labels)\n",
    "\n",
    "    return loss\n",
    "\n",
    "#check if the cost definition is correct\n",
    "def cost(weights, bias, X, Y):\n",
    "    predictions = [variational_classifier(weights, bias, x) for x in X]\n",
    "    # print(predictions)\n",
    "    return square_loss(Y, predictions)"
   ]
  },
  {
   "cell_type": "code",
   "execution_count": null,
   "id": "6d451c22-e3f6-498e-a084-a6bdedfc8432",
   "metadata": {},
   "outputs": [],
   "source": []
  },
  {
   "cell_type": "code",
   "execution_count": 106,
   "id": "9f970933-475c-430d-8285-e76d71e0eb44",
   "metadata": {},
   "outputs": [],
   "source": [
    "##Actual Training of it\n",
    "#Nesterov goes from 0.01 to 0.99, smaller values indicate smaller step size so lower computation speed but higher accuracy.\n",
    "##Vice versa for bigger  values. Let's take a simple 0.5 for now. Also try PSPA and Adam.\n",
    "\n",
    "\n",
    "bias_init = np.array(0.0, requires_grad=True)\n",
    "opt = NesterovMomentumOptimizer(0.5)\n",
    "batch_size = 10"
   ]
  },
  {
   "cell_type": "code",
   "execution_count": 107,
   "id": "199418e6-fcdf-4f55-8d8c-014b4080c246",
   "metadata": {},
   "outputs": [],
   "source": [
    "from tqdm import tqdm"
   ]
  },
  {
   "cell_type": "code",
   "execution_count": null,
   "id": "6fbe4489-e084-4525-b39c-0043e2c9a5f4",
   "metadata": {},
   "outputs": [
    {
     "name": "stderr",
     "output_type": "stream",
     "text": [
      "  0%|                                                                                          | 0/100 [00:00<?, ?it/s]"
     ]
    },
    {
     "name": "stdout",
     "output_type": "stream",
     "text": [
      "[1.97722857 3.86753962 4.98382994 1.83581191 5.09442993 1.98786539\n",
      " 0.79222249 6.21125359 0.30230072]\n"
     ]
    },
    {
     "name": "stderr",
     "output_type": "stream",
     "text": [
      "  1%|▊                                                                                 | 1/100 [00:24<41:01, 24.86s/it]"
     ]
    },
    {
     "name": "stdout",
     "output_type": "stream",
     "text": [
      "Iter:     1 | Cost: 0.2150773 | Accuracy: 0.0070922 \n",
      "[1.98532091 3.8699603  4.98382994 1.83581191 5.09442993 1.98786539\n",
      " 0.79222249 6.21125359 0.30230072]\n"
     ]
    },
    {
     "name": "stderr",
     "output_type": "stream",
     "text": [
      "  2%|█▋                                                                                | 2/100 [00:49<40:52, 25.02s/it]"
     ]
    },
    {
     "name": "stdout",
     "output_type": "stream",
     "text": [
      "Iter:     2 | Cost: 0.2048675 | Accuracy: 0.0070922 \n",
      "[2.0045372  3.90037994 4.98382994 1.83581191 5.09442993 1.98786539\n",
      " 0.79222249 6.21125359 0.30230072]\n"
     ]
    },
    {
     "name": "stderr",
     "output_type": "stream",
     "text": [
      "  3%|██▍                                                                               | 3/100 [01:15<40:29, 25.04s/it]"
     ]
    },
    {
     "name": "stdout",
     "output_type": "stream",
     "text": [
      "Iter:     3 | Cost: 0.2086716 | Accuracy: 0.0070922 \n",
      "[2.02620953 3.92024107 4.98382994 1.83581191 5.09442993 1.98786539\n",
      " 0.79222249 6.21125359 0.30230072]\n"
     ]
    },
    {
     "name": "stderr",
     "output_type": "stream",
     "text": [
      "  4%|███▎                                                                              | 4/100 [01:41<40:41, 25.43s/it]"
     ]
    },
    {
     "name": "stdout",
     "output_type": "stream",
     "text": [
      "Iter:     4 | Cost: 0.2118212 | Accuracy: 0.0070922 \n",
      "[2.04701076 3.95790498 4.98382994 1.83581191 5.09442993 1.98786539\n",
      " 0.79222249 6.21125359 0.30230072]\n"
     ]
    },
    {
     "name": "stderr",
     "output_type": "stream",
     "text": [
      "  5%|████                                                                              | 5/100 [02:06<40:08, 25.35s/it]"
     ]
    },
    {
     "name": "stdout",
     "output_type": "stream",
     "text": [
      "Iter:     5 | Cost: 0.2184774 | Accuracy: 0.0070922 \n",
      "[2.06773362 3.96771982 4.98382994 1.83581191 5.09442993 1.98786539\n",
      " 0.79222249 6.21125359 0.30230072]\n"
     ]
    },
    {
     "name": "stderr",
     "output_type": "stream",
     "text": [
      "  6%|████▉                                                                             | 6/100 [02:31<39:40, 25.32s/it]"
     ]
    },
    {
     "name": "stdout",
     "output_type": "stream",
     "text": [
      "Iter:     6 | Cost: 0.3065067 | Accuracy: 0.0000000 \n",
      "[2.09645658 3.9993225  4.98382994 1.83581191 5.09442993 1.98786539\n",
      " 0.79222249 6.21125359 0.30230072]\n"
     ]
    },
    {
     "name": "stderr",
     "output_type": "stream",
     "text": [
      "  7%|█████▋                                                                            | 7/100 [02:56<39:17, 25.35s/it]"
     ]
    },
    {
     "name": "stdout",
     "output_type": "stream",
     "text": [
      "Iter:     7 | Cost: 0.2048574 | Accuracy: 0.0070922 \n",
      "[2.12781938 4.03183986 4.98382994 1.83581191 5.09442993 1.98786539\n",
      " 0.79222249 6.21125359 0.30230072]\n"
     ]
    },
    {
     "name": "stderr",
     "output_type": "stream",
     "text": [
      "  8%|██████▌                                                                           | 8/100 [03:22<38:54, 25.38s/it]"
     ]
    },
    {
     "name": "stdout",
     "output_type": "stream",
     "text": [
      "Iter:     8 | Cost: 0.2082123 | Accuracy: 0.0070922 \n",
      "[2.15751502 4.06293137 4.98382994 1.83581191 5.09442993 1.98786539\n",
      " 0.79222249 6.21125359 0.30230072]\n"
     ]
    },
    {
     "name": "stderr",
     "output_type": "stream",
     "text": [
      "  9%|███████▍                                                                          | 9/100 [03:47<38:24, 25.33s/it]"
     ]
    },
    {
     "name": "stdout",
     "output_type": "stream",
     "text": [
      "Iter:     9 | Cost: 0.2154680 | Accuracy: 0.0070922 \n",
      "[2.19077891 4.10227127 4.98382994 1.83581191 5.09442993 1.98786539\n",
      " 0.79222249 6.21125359 0.30230072]\n"
     ]
    },
    {
     "name": "stderr",
     "output_type": "stream",
     "text": [
      " 10%|████████                                                                         | 10/100 [04:12<37:49, 25.21s/it]"
     ]
    },
    {
     "name": "stdout",
     "output_type": "stream",
     "text": [
      "Iter:    10 | Cost: 0.2980347 | Accuracy: 0.0070922 \n",
      "[2.21730543 4.11849405 4.98382994 1.83581191 5.09442993 1.98786539\n",
      " 0.79222249 6.21125359 0.30230072]\n"
     ]
    },
    {
     "name": "stderr",
     "output_type": "stream",
     "text": [
      " 11%|████████▉                                                                        | 11/100 [04:38<37:30, 25.29s/it]"
     ]
    },
    {
     "name": "stdout",
     "output_type": "stream",
     "text": [
      "Iter:    11 | Cost: 0.3098606 | Accuracy: 0.0000000 \n",
      "[2.24302249 4.1246758  4.98382994 1.83581191 5.09442993 1.98786539\n",
      " 0.79222249 6.21125359 0.30230072]\n"
     ]
    },
    {
     "name": "stderr",
     "output_type": "stream",
     "text": [
      " 12%|█████████▋                                                                       | 12/100 [05:03<37:16, 25.41s/it]"
     ]
    },
    {
     "name": "stdout",
     "output_type": "stream",
     "text": [
      "Iter:    12 | Cost: 0.3824093 | Accuracy: 0.0070922 \n",
      "[2.25655159 4.11335694 4.98382994 1.83581191 5.09442993 1.98786539\n",
      " 0.79222249 6.21125359 0.30230072]\n"
     ]
    },
    {
     "name": "stderr",
     "output_type": "stream",
     "text": [
      " 13%|██████████▌                                                                      | 13/100 [05:29<36:55, 25.46s/it]"
     ]
    },
    {
     "name": "stdout",
     "output_type": "stream",
     "text": [
      "Iter:    13 | Cost: 0.3839186 | Accuracy: 0.0000000 \n",
      "[2.27444744 4.1121691  4.98382994 1.83581191 5.09442993 1.98786539\n",
      " 0.79222249 6.21125359 0.30230072]\n"
     ]
    },
    {
     "name": "stderr",
     "output_type": "stream",
     "text": [
      " 14%|███████████▎                                                                     | 14/100 [05:54<36:20, 25.36s/it]"
     ]
    },
    {
     "name": "stdout",
     "output_type": "stream",
     "text": [
      "Iter:    14 | Cost: 0.2741035 | Accuracy: 0.0070922 \n",
      "[2.30056675 4.10856721 4.98382994 1.83581191 5.09442993 1.98786539\n",
      " 0.79222249 6.21125359 0.30230072]\n"
     ]
    },
    {
     "name": "stderr",
     "output_type": "stream",
     "text": [
      " 15%|████████████▏                                                                    | 15/100 [06:19<35:51, 25.31s/it]"
     ]
    },
    {
     "name": "stdout",
     "output_type": "stream",
     "text": [
      "Iter:    15 | Cost: 0.2404118 | Accuracy: 0.0070922 \n",
      "[2.32581889 4.10158556 4.98382994 1.83581191 5.09442993 1.98786539\n",
      " 0.79222249 6.21125359 0.30230072]\n"
     ]
    },
    {
     "name": "stderr",
     "output_type": "stream",
     "text": [
      " 16%|████████████▉                                                                    | 16/100 [06:45<35:31, 25.37s/it]"
     ]
    },
    {
     "name": "stdout",
     "output_type": "stream",
     "text": [
      "Iter:    16 | Cost: 0.2113007 | Accuracy: 0.0070922 \n",
      "[2.3483759  4.09512207 4.98382994 1.83581191 5.09442993 1.98786539\n",
      " 0.79222249 6.21125359 0.30230072]\n"
     ]
    },
    {
     "name": "stderr",
     "output_type": "stream",
     "text": [
      " 17%|█████████████▊                                                                   | 17/100 [07:10<35:16, 25.50s/it]"
     ]
    },
    {
     "name": "stdout",
     "output_type": "stream",
     "text": [
      "Iter:    17 | Cost: 0.2646025 | Accuracy: 0.0070922 \n",
      "[2.36717619 4.08766807 4.98382994 1.83581191 5.09442993 1.98786539\n",
      " 0.79222249 6.21125359 0.30230072]\n"
     ]
    },
    {
     "name": "stderr",
     "output_type": "stream",
     "text": [
      " 18%|██████████████▌                                                                  | 18/100 [07:36<34:40, 25.38s/it]"
     ]
    },
    {
     "name": "stdout",
     "output_type": "stream",
     "text": [
      "Iter:    18 | Cost: 0.2746545 | Accuracy: 0.0070922 \n",
      "[2.38389718 4.08082517 4.98382994 1.83581191 5.09442993 1.98786539\n",
      " 0.79222249 6.21125359 0.30230072]\n"
     ]
    },
    {
     "name": "stderr",
     "output_type": "stream",
     "text": [
      " 19%|███████████████▍                                                                 | 19/100 [08:01<34:19, 25.43s/it]"
     ]
    },
    {
     "name": "stdout",
     "output_type": "stream",
     "text": [
      "Iter:    19 | Cost: 0.2879488 | Accuracy: 0.0070922 \n",
      "[2.38717181 4.06228914 4.98382994 1.83581191 5.09442993 1.98786539\n",
      " 0.79222249 6.21125359 0.30230072]\n"
     ]
    },
    {
     "name": "stderr",
     "output_type": "stream",
     "text": [
      " 20%|████████████████▏                                                                | 20/100 [08:27<33:56, 25.46s/it]"
     ]
    },
    {
     "name": "stdout",
     "output_type": "stream",
     "text": [
      "Iter:    20 | Cost: 0.4676304 | Accuracy: 0.0070922 \n",
      "[2.37834445 4.04007891 4.98382994 1.83581191 5.09442993 1.98786539\n",
      " 0.79222249 6.21125359 0.30230072]\n"
     ]
    },
    {
     "name": "stderr",
     "output_type": "stream",
     "text": [
      " 21%|█████████████████                                                                | 21/100 [08:52<33:33, 25.49s/it]"
     ]
    },
    {
     "name": "stdout",
     "output_type": "stream",
     "text": [
      "Iter:    21 | Cost: 0.2599924 | Accuracy: 0.0070922 \n",
      "[2.34265738 3.97106171 4.98382994 1.83581191 5.09442993 1.98786539\n",
      " 0.79222249 6.21125359 0.30230072]\n"
     ]
    },
    {
     "name": "stderr",
     "output_type": "stream",
     "text": [
      " 22%|█████████████████▊                                                               | 22/100 [09:18<33:13, 25.55s/it]"
     ]
    },
    {
     "name": "stdout",
     "output_type": "stream",
     "text": [
      "Iter:    22 | Cost: 0.3930856 | Accuracy: 0.0070922 \n",
      "[2.34126154 3.94110841 4.98382994 1.83581191 5.09442993 1.98786539\n",
      " 0.79222249 6.21125359 0.30230072]\n"
     ]
    },
    {
     "name": "stderr",
     "output_type": "stream",
     "text": [
      " 23%|██████████████████▋                                                              | 23/100 [09:43<32:36, 25.41s/it]"
     ]
    },
    {
     "name": "stdout",
     "output_type": "stream",
     "text": [
      "Iter:    23 | Cost: 0.2370914 | Accuracy: 0.0070922 \n",
      "[2.3542325  3.92602226 4.98382994 1.83581191 5.09442993 1.98786539\n",
      " 0.79222249 6.21125359 0.30230072]\n"
     ]
    },
    {
     "name": "stderr",
     "output_type": "stream",
     "text": [
      " 24%|███████████████████▍                                                             | 24/100 [10:09<32:16, 25.49s/it]"
     ]
    },
    {
     "name": "stdout",
     "output_type": "stream",
     "text": [
      "Iter:    24 | Cost: 0.2064538 | Accuracy: 0.0070922 \n",
      "[2.3678482  3.91255112 4.98382994 1.83581191 5.09442993 1.98786539\n",
      " 0.79222249 6.21125359 0.30230072]\n"
     ]
    },
    {
     "name": "stderr",
     "output_type": "stream",
     "text": [
      " 25%|████████████████████▎                                                            | 25/100 [10:34<31:40, 25.34s/it]"
     ]
    },
    {
     "name": "stdout",
     "output_type": "stream",
     "text": [
      "Iter:    25 | Cost: 0.2073242 | Accuracy: 0.0070922 \n",
      "[2.36899072 3.88908004 4.98382994 1.83581191 5.09442993 1.98786539\n",
      " 0.79222249 6.21125359 0.30230072]\n"
     ]
    },
    {
     "name": "stderr",
     "output_type": "stream",
     "text": [
      " 26%|█████████████████████                                                            | 26/100 [10:59<31:16, 25.36s/it]"
     ]
    },
    {
     "name": "stdout",
     "output_type": "stream",
     "text": [
      "Iter:    26 | Cost: 0.2162354 | Accuracy: 0.0070922 \n",
      "[2.35706714 3.86053073 4.98382994 1.83581191 5.09442993 1.98786539\n",
      " 0.79222249 6.21125359 0.30230072]\n"
     ]
    },
    {
     "name": "stderr",
     "output_type": "stream",
     "text": [
      " 27%|█████████████████████▊                                                           | 27/100 [11:24<30:46, 25.29s/it]"
     ]
    },
    {
     "name": "stdout",
     "output_type": "stream",
     "text": [
      "Iter:    27 | Cost: 0.2107130 | Accuracy: 0.0070922 \n",
      "[2.33191899 3.82509805 4.98382994 1.83581191 5.09442993 1.98786539\n",
      " 0.79222249 6.21125359 0.30230072]\n"
     ]
    },
    {
     "name": "stderr",
     "output_type": "stream",
     "text": [
      " 28%|██████████████████████▋                                                          | 28/100 [11:50<30:36, 25.51s/it]"
     ]
    },
    {
     "name": "stdout",
     "output_type": "stream",
     "text": [
      "Iter:    28 | Cost: 0.2168224 | Accuracy: 0.0070922 \n",
      "[2.28193567 3.82842038 4.98382994 1.83581191 5.09442993 1.98786539\n",
      " 0.79222249 6.21125359 0.30230072]\n"
     ]
    },
    {
     "name": "stderr",
     "output_type": "stream",
     "text": [
      " 29%|███████████████████████▍                                                         | 29/100 [12:16<30:09, 25.49s/it]"
     ]
    },
    {
     "name": "stdout",
     "output_type": "stream",
     "text": [
      "Iter:    29 | Cost: 0.3045684 | Accuracy: 0.0000000 \n",
      "[2.24025732 3.85111512 4.98382994 1.83581191 5.09442993 1.98786539\n",
      " 0.79222249 6.21125359 0.30230072]\n"
     ]
    },
    {
     "name": "stderr",
     "output_type": "stream",
     "text": [
      " 30%|████████████████████████▎                                                        | 30/100 [12:41<29:43, 25.48s/it]"
     ]
    },
    {
     "name": "stdout",
     "output_type": "stream",
     "text": [
      "Iter:    30 | Cost: 0.2431649 | Accuracy: 0.0070922 \n",
      "[2.19169417 3.85535923 4.98382994 1.83581191 5.09442993 1.98786539\n",
      " 0.79222249 6.21125359 0.30230072]\n"
     ]
    },
    {
     "name": "stderr",
     "output_type": "stream",
     "text": [
      " 31%|█████████████████████████                                                        | 31/100 [13:07<29:29, 25.65s/it]"
     ]
    },
    {
     "name": "stdout",
     "output_type": "stream",
     "text": [
      "Iter:    31 | Cost: 0.2104261 | Accuracy: 0.0070922 \n",
      "[2.14020178 3.86898139 4.98382994 1.83581191 5.09442993 1.98786539\n",
      " 0.79222249 6.21125359 0.30230072]\n"
     ]
    },
    {
     "name": "stderr",
     "output_type": "stream",
     "text": [
      " 32%|█████████████████████████▉                                                       | 32/100 [13:32<28:58, 25.57s/it]"
     ]
    },
    {
     "name": "stdout",
     "output_type": "stream",
     "text": [
      "Iter:    32 | Cost: 0.2067323 | Accuracy: 0.0070922 \n",
      "[2.09248017 3.86989387 4.98382994 1.83581191 5.09442993 1.98786539\n",
      " 0.79222249 6.21125359 0.30230072]\n"
     ]
    },
    {
     "name": "stderr",
     "output_type": "stream",
     "text": [
      " 33%|██████████████████████████▋                                                      | 33/100 [13:57<28:16, 25.32s/it]"
     ]
    },
    {
     "name": "stdout",
     "output_type": "stream",
     "text": [
      "Iter:    33 | Cost: 0.2101301 | Accuracy: 0.0070922 \n",
      "[2.03393828 3.85784377 4.98382994 1.83581191 5.09442993 1.98786539\n",
      " 0.79222249 6.21125359 0.30230072]\n"
     ]
    },
    {
     "name": "stderr",
     "output_type": "stream",
     "text": [
      " 34%|███████████████████████████▌                                                     | 34/100 [14:23<27:53, 25.36s/it]"
     ]
    },
    {
     "name": "stdout",
     "output_type": "stream",
     "text": [
      "Iter:    34 | Cost: 0.2095590 | Accuracy: 0.0070922 \n",
      "[1.97736607 3.81833713 4.98382994 1.83581191 5.09442993 1.98786539\n",
      " 0.79222249 6.21125359 0.30230072]\n"
     ]
    },
    {
     "name": "stderr",
     "output_type": "stream",
     "text": [
      " 35%|████████████████████████████▎                                                    | 35/100 [14:48<27:31, 25.40s/it]"
     ]
    },
    {
     "name": "stdout",
     "output_type": "stream",
     "text": [
      "Iter:    35 | Cost: 0.2151007 | Accuracy: 0.0070922 \n",
      "[1.91881803 3.76889761 4.98382994 1.83581191 5.09442993 1.98786539\n",
      " 0.79222249 6.21125359 0.30230072]\n"
     ]
    },
    {
     "name": "stderr",
     "output_type": "stream",
     "text": [
      " 36%|█████████████████████████████▏                                                   | 36/100 [15:14<27:21, 25.64s/it]"
     ]
    },
    {
     "name": "stdout",
     "output_type": "stream",
     "text": [
      "Iter:    36 | Cost: 0.2094779 | Accuracy: 0.0070922 \n",
      "[1.85272248 3.70845731 4.98382994 1.83581191 5.09442993 1.98786539\n",
      " 0.79222249 6.21125359 0.30230072]\n"
     ]
    },
    {
     "name": "stderr",
     "output_type": "stream",
     "text": [
      " 37%|█████████████████████████████▉                                                   | 37/100 [15:40<26:46, 25.50s/it]"
     ]
    },
    {
     "name": "stdout",
     "output_type": "stream",
     "text": [
      "Iter:    37 | Cost: 0.2743035 | Accuracy: 0.0035461 \n",
      "[1.78513882 3.60533293 4.98382994 1.83581191 5.09442993 1.98786539\n",
      " 0.79222249 6.21125359 0.30230072]\n"
     ]
    },
    {
     "name": "stderr",
     "output_type": "stream",
     "text": [
      " 38%|██████████████████████████████▊                                                  | 38/100 [16:05<26:15, 25.42s/it]"
     ]
    },
    {
     "name": "stdout",
     "output_type": "stream",
     "text": [
      "Iter:    38 | Cost: 0.2309678 | Accuracy: 0.0070922 \n",
      "[1.69004145 3.51171697 4.98382994 1.83581191 5.09442993 1.98786539\n",
      " 0.79222249 6.21125359 0.30230072]\n"
     ]
    },
    {
     "name": "stderr",
     "output_type": "stream",
     "text": [
      " 39%|███████████████████████████████▌                                                 | 39/100 [16:30<25:46, 25.35s/it]"
     ]
    },
    {
     "name": "stdout",
     "output_type": "stream",
     "text": [
      "Iter:    39 | Cost: 0.4476223 | Accuracy: 0.0070922 \n",
      "[1.5480735  3.46629553 4.98382994 1.83581191 5.09442993 1.98786539\n",
      " 0.79222249 6.21125359 0.30230072]\n"
     ]
    },
    {
     "name": "stderr",
     "output_type": "stream",
     "text": [
      " 40%|████████████████████████████████▍                                                | 40/100 [16:55<25:22, 25.37s/it]"
     ]
    },
    {
     "name": "stdout",
     "output_type": "stream",
     "text": [
      "Iter:    40 | Cost: 0.2404122 | Accuracy: 0.0070922 \n",
      "[1.35800422 3.33774097 4.98382994 1.83581191 5.09442993 1.98786539\n",
      " 0.79222249 6.21125359 0.30230072]\n"
     ]
    },
    {
     "name": "stderr",
     "output_type": "stream",
     "text": [
      " 41%|█████████████████████████████████▏                                               | 41/100 [17:22<25:10, 25.60s/it]"
     ]
    },
    {
     "name": "stdout",
     "output_type": "stream",
     "text": [
      "Iter:    41 | Cost: 0.2152262 | Accuracy: 0.0070922 \n",
      "[1.12806638 3.21920518 4.98382994 1.83581191 5.09442993 1.98786539\n",
      " 0.79222249 6.21125359 0.30230072]\n"
     ]
    },
    {
     "name": "stderr",
     "output_type": "stream",
     "text": [
      " 42%|██████████████████████████████████                                               | 42/100 [17:46<24:27, 25.31s/it]"
     ]
    },
    {
     "name": "stdout",
     "output_type": "stream",
     "text": [
      "Iter:    42 | Cost: 0.2711997 | Accuracy: 0.0070922 \n",
      "[0.95977537 3.1095063  4.98382994 1.83581191 5.09442993 1.98786539\n",
      " 0.79222249 6.21125359 0.30230072]\n"
     ]
    },
    {
     "name": "stderr",
     "output_type": "stream",
     "text": [
      " 43%|██████████████████████████████████▊                                              | 43/100 [18:11<24:00, 25.28s/it]"
     ]
    },
    {
     "name": "stdout",
     "output_type": "stream",
     "text": [
      "Iter:    43 | Cost: 0.2390017 | Accuracy: 0.0070922 \n",
      "[0.7843573  2.99794908 4.98382994 1.83581191 5.09442993 1.98786539\n",
      " 0.79222249 6.21125359 0.30230072]\n"
     ]
    },
    {
     "name": "stderr",
     "output_type": "stream",
     "text": [
      " 44%|███████████████████████████████████▋                                             | 44/100 [18:37<23:45, 25.46s/it]"
     ]
    },
    {
     "name": "stdout",
     "output_type": "stream",
     "text": [
      "Iter:    44 | Cost: 0.2383184 | Accuracy: 0.0070922 \n",
      "[0.64903444 2.89931991 4.98382994 1.83581191 5.09442993 1.98786539\n",
      " 0.79222249 6.21125359 0.30230072]\n"
     ]
    },
    {
     "name": "stderr",
     "output_type": "stream",
     "text": [
      " 45%|████████████████████████████████████▍                                            | 45/100 [19:03<23:19, 25.44s/it]"
     ]
    },
    {
     "name": "stdout",
     "output_type": "stream",
     "text": [
      "Iter:    45 | Cost: 0.3038853 | Accuracy: 0.0070922 \n",
      "[0.50120184 2.81066956 4.98382994 1.83581191 5.09442993 1.98786539\n",
      " 0.79222249 6.21125359 0.30230072]\n"
     ]
    },
    {
     "name": "stderr",
     "output_type": "stream",
     "text": [
      " 46%|█████████████████████████████████████▎                                           | 46/100 [19:28<22:57, 25.51s/it]"
     ]
    },
    {
     "name": "stdout",
     "output_type": "stream",
     "text": [
      "Iter:    46 | Cost: 0.2374707 | Accuracy: 0.0070922 \n",
      "[0.33317866 2.68691651 4.98382994 1.83581191 5.09442993 1.98786539\n",
      " 0.79222249 6.21125359 0.30230072]\n"
     ]
    },
    {
     "name": "stderr",
     "output_type": "stream",
     "text": [
      " 47%|██████████████████████████████████████                                           | 47/100 [19:53<22:22, 25.32s/it]"
     ]
    },
    {
     "name": "stdout",
     "output_type": "stream",
     "text": [
      "Iter:    47 | Cost: 0.2068175 | Accuracy: 0.0070922 \n",
      "[0.19908107 2.5624305  4.98382994 1.83581191 5.09442993 1.98786539\n",
      " 0.79222249 6.21125359 0.30230072]\n"
     ]
    },
    {
     "name": "stderr",
     "output_type": "stream",
     "text": [
      " 48%|██████████████████████████████████████▉                                          | 48/100 [20:19<22:00, 25.39s/it]"
     ]
    },
    {
     "name": "stdout",
     "output_type": "stream",
     "text": [
      "Iter:    48 | Cost: 0.2253548 | Accuracy: 0.0070922 \n",
      "[0.07239212 2.44979409 4.98382994 1.83581191 5.09442993 1.98786539\n",
      " 0.79222249 6.21125359 0.30230072]\n"
     ]
    },
    {
     "name": "stderr",
     "output_type": "stream",
     "text": [
      " 49%|███████████████████████████████████████▋                                         | 49/100 [20:44<21:30, 25.30s/it]"
     ]
    },
    {
     "name": "stdout",
     "output_type": "stream",
     "text": [
      "Iter:    49 | Cost: 0.2108857 | Accuracy: 0.0070922 \n",
      "[-0.04146793  2.35186107  4.98382994  1.83581191  5.09442993  1.98786539\n",
      "  0.79222249  6.21125359  0.30230072]\n"
     ]
    },
    {
     "name": "stderr",
     "output_type": "stream",
     "text": [
      " 50%|████████████████████████████████████████▌                                        | 50/100 [21:09<21:09, 25.40s/it]"
     ]
    },
    {
     "name": "stdout",
     "output_type": "stream",
     "text": [
      "Iter:    50 | Cost: 0.2962029 | Accuracy: 0.0035461 \n",
      "[-0.14546995  2.26569316  4.98382994  1.83581191  5.09442993  1.98786539\n",
      "  0.79222249  6.21125359  0.30230072]\n"
     ]
    },
    {
     "name": "stderr",
     "output_type": "stream",
     "text": [
      " 51%|█████████████████████████████████████████▎                                       | 51/100 [21:34<20:39, 25.29s/it]"
     ]
    },
    {
     "name": "stdout",
     "output_type": "stream",
     "text": [
      "Iter:    51 | Cost: 0.2698070 | Accuracy: 0.0070922 \n",
      "[-0.23968676  2.18914834  4.98382994  1.83581191  5.09442993  1.98786539\n",
      "  0.79222249  6.21125359  0.30230072]\n"
     ]
    },
    {
     "name": "stderr",
     "output_type": "stream",
     "text": [
      " 52%|██████████████████████████████████████████                                       | 52/100 [22:00<20:15, 25.32s/it]"
     ]
    },
    {
     "name": "stdout",
     "output_type": "stream",
     "text": [
      "Iter:    52 | Cost: 0.2164353 | Accuracy: 0.0070922 \n",
      "[-0.3207986   2.11397688  4.98382994  1.83581191  5.09442993  1.98786539\n",
      "  0.79222249  6.21125359  0.30230072]\n"
     ]
    },
    {
     "name": "stderr",
     "output_type": "stream",
     "text": [
      " 53%|██████████████████████████████████████████▉                                      | 53/100 [22:24<19:39, 25.10s/it]"
     ]
    },
    {
     "name": "stdout",
     "output_type": "stream",
     "text": [
      "Iter:    53 | Cost: 0.2195823 | Accuracy: 0.0070922 \n",
      "[-0.39313691  2.04671702  4.98382994  1.83581191  5.09442993  1.98786539\n",
      "  0.79222249  6.21125359  0.30230072]\n"
     ]
    },
    {
     "name": "stderr",
     "output_type": "stream",
     "text": [
      " 54%|███████████████████████████████████████████▋                                     | 54/100 [22:49<19:11, 25.03s/it]"
     ]
    },
    {
     "name": "stdout",
     "output_type": "stream",
     "text": [
      "Iter:    54 | Cost: 0.2186855 | Accuracy: 0.0070922 \n",
      "[-0.45887562  1.98779409  4.98382994  1.83581191  5.09442993  1.98786539\n",
      "  0.79222249  6.21125359  0.30230072]\n"
     ]
    },
    {
     "name": "stderr",
     "output_type": "stream",
     "text": [
      " 55%|████████████████████████████████████████████▌                                    | 55/100 [23:15<18:54, 25.21s/it]"
     ]
    },
    {
     "name": "stdout",
     "output_type": "stream",
     "text": [
      "Iter:    55 | Cost: 0.2237258 | Accuracy: 0.0070922 \n",
      "[-0.51805834  1.93958205  4.98382994  1.83581191  5.09442993  1.98786539\n",
      "  0.79222249  6.21125359  0.30230072]\n"
     ]
    },
    {
     "name": "stderr",
     "output_type": "stream",
     "text": [
      " 56%|█████████████████████████████████████████████▎                                   | 56/100 [23:40<18:27, 25.18s/it]"
     ]
    },
    {
     "name": "stdout",
     "output_type": "stream",
     "text": [
      "Iter:    56 | Cost: 0.3306610 | Accuracy: 0.0070922 \n",
      "[-0.57129439  1.89619064  4.98382994  1.83581191  5.09442993  1.98786539\n",
      "  0.79222249  6.21125359  0.30230072]\n"
     ]
    },
    {
     "name": "stderr",
     "output_type": "stream",
     "text": [
      " 57%|██████████████████████████████████████████████▏                                  | 57/100 [24:05<18:03, 25.21s/it]"
     ]
    },
    {
     "name": "stdout",
     "output_type": "stream",
     "text": [
      "Iter:    57 | Cost: 0.2379197 | Accuracy: 0.0070922 \n",
      "[-0.61870273  1.85650502  4.98382994  1.83581191  5.09442993  1.98786539\n",
      "  0.79222249  6.21125359  0.30230072]\n"
     ]
    },
    {
     "name": "stderr",
     "output_type": "stream",
     "text": [
      " 58%|██████████████████████████████████████████████▉                                  | 58/100 [24:30<17:37, 25.17s/it]"
     ]
    },
    {
     "name": "stdout",
     "output_type": "stream",
     "text": [
      "Iter:    58 | Cost: 0.2062213 | Accuracy: 0.0070922 \n",
      "[-0.66134567  1.82074742  4.98382994  1.83581191  5.09442993  1.98786539\n",
      "  0.79222249  6.21125359  0.30230072]\n"
     ]
    },
    {
     "name": "stderr",
     "output_type": "stream",
     "text": [
      " 59%|███████████████████████████████████████████████▊                                 | 59/100 [24:56<17:17, 25.32s/it]"
     ]
    },
    {
     "name": "stdout",
     "output_type": "stream",
     "text": [
      "Iter:    59 | Cost: 0.2120286 | Accuracy: 0.0070922 \n",
      "[-0.69972135  1.78902459  4.98382994  1.83581191  5.09442993  1.98786539\n",
      "  0.79222249  6.21125359  0.30230072]\n"
     ]
    },
    {
     "name": "stderr",
     "output_type": "stream",
     "text": [
      " 60%|████████████████████████████████████████████████▌                                | 60/100 [25:22<17:00, 25.50s/it]"
     ]
    },
    {
     "name": "stdout",
     "output_type": "stream",
     "text": [
      "Iter:    60 | Cost: 0.2169399 | Accuracy: 0.0070922 \n",
      "[-0.73425677  1.76046593  4.98382994  1.83581191  5.09442993  1.98786539\n",
      "  0.79222249  6.21125359  0.30230072]\n"
     ]
    },
    {
     "name": "stderr",
     "output_type": "stream",
     "text": [
      " 61%|█████████████████████████████████████████████████▍                               | 61/100 [25:47<16:27, 25.31s/it]"
     ]
    },
    {
     "name": "stdout",
     "output_type": "stream",
     "text": [
      "Iter:    61 | Cost: 0.2729873 | Accuracy: 0.0070922 \n",
      "[-0.76536939  1.73494327  4.98382994  1.83581191  5.09442993  1.98786539\n",
      "  0.79222249  6.21125359  0.30230072]\n"
     ]
    },
    {
     "name": "stderr",
     "output_type": "stream",
     "text": [
      " 62%|██████████████████████████████████████████████████▏                              | 62/100 [26:12<15:59, 25.24s/it]"
     ]
    },
    {
     "name": "stdout",
     "output_type": "stream",
     "text": [
      "Iter:    62 | Cost: 0.2101813 | Accuracy: 0.0070922 \n",
      "[-0.79335955  1.71213443  4.98382994  1.83581191  5.09442993  1.98786539\n",
      "  0.79222249  6.21125359  0.30230072]\n"
     ]
    },
    {
     "name": "stderr",
     "output_type": "stream",
     "text": [
      " 63%|███████████████████████████████████████████████████                              | 63/100 [26:38<15:39, 25.40s/it]"
     ]
    },
    {
     "name": "stdout",
     "output_type": "stream",
     "text": [
      "Iter:    63 | Cost: 0.2813157 | Accuracy: 0.0070922 \n",
      "[-0.81855344  1.69180452  4.98382994  1.83581191  5.09442993  1.98786539\n",
      "  0.79222249  6.21125359  0.30230072]\n"
     ]
    },
    {
     "name": "stderr",
     "output_type": "stream",
     "text": [
      " 64%|███████████████████████████████████████████████████▊                             | 64/100 [27:03<15:09, 25.27s/it]"
     ]
    },
    {
     "name": "stdout",
     "output_type": "stream",
     "text": [
      "Iter:    64 | Cost: 0.2291551 | Accuracy: 0.0070922 \n",
      "[-0.84122767  1.67354435  4.98382994  1.83581191  5.09442993  1.98786539\n",
      "  0.79222249  6.21125359  0.30230072]\n"
     ]
    },
    {
     "name": "stderr",
     "output_type": "stream",
     "text": [
      " 65%|████████████████████████████████████████████████████▋                            | 65/100 [27:28<14:46, 25.32s/it]"
     ]
    },
    {
     "name": "stdout",
     "output_type": "stream",
     "text": [
      "Iter:    65 | Cost: 0.3550675 | Accuracy: 0.0070922 \n",
      "[-0.86163414  1.65723729  4.98382994  1.83581191  5.09442993  1.98786539\n",
      "  0.79222249  6.21125359  0.30230072]\n"
     ]
    },
    {
     "name": "stderr",
     "output_type": "stream",
     "text": [
      " 66%|█████████████████████████████████████████████████████▍                           | 66/100 [27:52<14:06, 24.90s/it]"
     ]
    },
    {
     "name": "stdout",
     "output_type": "stream",
     "text": [
      "Iter:    66 | Cost: 0.2513929 | Accuracy: 0.0070922 \n",
      "[-0.87999993  1.64256435  4.98382994  1.83581191  5.09442993  1.98786539\n",
      "  0.79222249  6.21125359  0.30230072]\n"
     ]
    },
    {
     "name": "stderr",
     "output_type": "stream",
     "text": [
      " 67%|██████████████████████████████████████████████████████▎                          | 67/100 [28:17<13:41, 24.90s/it]"
     ]
    },
    {
     "name": "stdout",
     "output_type": "stream",
     "text": [
      "Iter:    67 | Cost: 0.2097778 | Accuracy: 0.0070922 \n",
      "[-0.89652868  1.62937084  4.98382994  1.83581191  5.09442993  1.98786539\n",
      "  0.79222249  6.21125359  0.30230072]\n"
     ]
    },
    {
     "name": "stderr",
     "output_type": "stream",
     "text": [
      " 68%|███████████████████████████████████████████████████████                          | 68/100 [28:43<13:26, 25.20s/it]"
     ]
    },
    {
     "name": "stdout",
     "output_type": "stream",
     "text": [
      "Iter:    68 | Cost: 0.2079742 | Accuracy: 0.0070922 \n",
      "[-0.91140452  1.61749759  4.98382994  1.83581191  5.09442993  1.98786539\n",
      "  0.79222249  6.21125359  0.30230072]\n"
     ]
    },
    {
     "name": "stderr",
     "output_type": "stream",
     "text": [
      " 69%|███████████████████████████████████████████████████████▉                         | 69/100 [29:08<13:01, 25.22s/it]"
     ]
    },
    {
     "name": "stdout",
     "output_type": "stream",
     "text": [
      "Iter:    69 | Cost: 0.2150597 | Accuracy: 0.0070922 \n",
      "[-0.92479283  1.60681333  4.98382994  1.83581191  5.09442993  1.98786539\n",
      "  0.79222249  6.21125359  0.30230072]\n"
     ]
    },
    {
     "name": "stderr",
     "output_type": "stream",
     "text": [
      " 70%|████████████████████████████████████████████████████████▋                        | 70/100 [29:34<12:40, 25.36s/it]"
     ]
    },
    {
     "name": "stdout",
     "output_type": "stream",
     "text": [
      "Iter:    70 | Cost: 0.3077411 | Accuracy: 0.0070922 \n",
      "[-0.93684235  1.59719641  4.98382994  1.83581191  5.09442993  1.98786539\n",
      "  0.79222249  6.21125359  0.30230072]\n"
     ]
    },
    {
     "name": "stderr",
     "output_type": "stream",
     "text": [
      " 71%|█████████████████████████████████████████████████████████▌                       | 71/100 [29:59<12:13, 25.28s/it]"
     ]
    },
    {
     "name": "stdout",
     "output_type": "stream",
     "text": [
      "Iter:    71 | Cost: 0.3394866 | Accuracy: 0.0000000 \n",
      "[-0.94768693  1.588543    4.98382994  1.83581191  5.09442993  1.98786539\n",
      "  0.79222249  6.21125359  0.30230072]\n"
     ]
    },
    {
     "name": "stderr",
     "output_type": "stream",
     "text": [
      " 72%|██████████████████████████████████████████████████████████▎                      | 72/100 [30:24<11:45, 25.19s/it]"
     ]
    },
    {
     "name": "stdout",
     "output_type": "stream",
     "text": [
      "Iter:    72 | Cost: 0.6060033 | Accuracy: 0.0070922 \n",
      "[-0.95744705  1.58075507  4.98382994  1.83581191  5.09442993  1.98786539\n",
      "  0.79222249  6.21125359  0.30230072]\n"
     ]
    },
    {
     "name": "stderr",
     "output_type": "stream",
     "text": [
      " 73%|███████████████████████████████████████████████████████████▏                     | 73/100 [30:49<11:19, 25.18s/it]"
     ]
    },
    {
     "name": "stdout",
     "output_type": "stream",
     "text": [
      "Iter:    73 | Cost: 0.2792885 | Accuracy: 0.0070922 \n",
      "[-0.96623115  1.57374594  4.98382994  1.83581191  5.09442993  1.98786539\n",
      "  0.79222249  6.21125359  0.30230072]\n"
     ]
    },
    {
     "name": "stderr",
     "output_type": "stream",
     "text": [
      " 74%|███████████████████████████████████████████████████████████▉                     | 74/100 [31:16<11:12, 25.85s/it]"
     ]
    },
    {
     "name": "stdout",
     "output_type": "stream",
     "text": [
      "Iter:    74 | Cost: 0.4287127 | Accuracy: 0.0070922 \n",
      "[-0.97413685  1.56743773  4.98382994  1.83581191  5.09442993  1.98786539\n",
      "  0.79222249  6.21125359  0.30230072]\n"
     ]
    },
    {
     "name": "stderr",
     "output_type": "stream",
     "text": [
      " 75%|████████████████████████████████████████████████████████████▊                    | 75/100 [31:42<10:43, 25.75s/it]"
     ]
    },
    {
     "name": "stdout",
     "output_type": "stream",
     "text": [
      "Iter:    75 | Cost: 0.2565541 | Accuracy: 0.0070922 \n",
      "[-0.98125197  1.5617604   4.98382994  1.83581191  5.09442993  1.98786539\n",
      "  0.79222249  6.21125359  0.30230072]\n"
     ]
    },
    {
     "name": "stderr",
     "output_type": "stream",
     "text": [
      " 76%|█████████████████████████████████████████████████████████████▌                   | 76/100 [32:07<10:13, 25.56s/it]"
     ]
    },
    {
     "name": "stdout",
     "output_type": "stream",
     "text": [
      "Iter:    76 | Cost: 0.2336161 | Accuracy: 0.0070922 \n",
      "[-0.98765559  1.55665051  4.98382994  1.83581191  5.09442993  1.98786539\n",
      "  0.79222249  6.21125359  0.30230072]\n"
     ]
    },
    {
     "name": "stderr",
     "output_type": "stream",
     "text": [
      " 77%|██████████████████████████████████████████████████████████████▎                  | 77/100 [32:32<09:45, 25.44s/it]"
     ]
    },
    {
     "name": "stdout",
     "output_type": "stream",
     "text": [
      "Iter:    77 | Cost: 0.4548575 | Accuracy: 0.0070922 \n",
      "[-0.99341884  1.55205239  4.98382994  1.83581191  5.09442993  1.98786539\n",
      "  0.79222249  6.21125359  0.30230072]\n"
     ]
    },
    {
     "name": "stderr",
     "output_type": "stream",
     "text": [
      " 78%|███████████████████████████████████████████████████████████████▏                 | 78/100 [32:57<09:16, 25.31s/it]"
     ]
    },
    {
     "name": "stdout",
     "output_type": "stream",
     "text": [
      "Iter:    78 | Cost: 0.2063336 | Accuracy: 0.0070922 \n",
      "[-0.99860577  1.54791429  4.98382994  1.83581191  5.09442993  1.98786539\n",
      "  0.79222249  6.21125359  0.30230072]\n"
     ]
    }
   ],
   "source": [
    "params = total_params  #at some point we can start it randomly though now i can't\n",
    "bias = bias_init\n",
    "weights = np.random.rand(9)*2*np.pi\n",
    "for it in tqdm(range(100)):\n",
    "    acc=0\n",
    "    batch_index = np.random.randint(0, len(X), (batch_size))\n",
    "    X_batch = X[batch_index]\n",
    "    Y_batch = Y[batch_index]\n",
    "    weights, bias, _, _ = opt.step(cost, weights, bias, X_batch, Y_batch)\n",
    "    print(weights)\n",
    "    pred_index = np.random.randint(0, len(X), (10))\n",
    "    predictions = [np.sign(variational_classifier(weights, bias, x)) for x in X[pred_index]]\n",
    "    acc = accuracy(Y, predictions)\n",
    "\n",
    "    print(\n",
    "        \"Iter: {:5d} | Cost: {:0.7f} | Accuracy: {:0.7f} \".format(\n",
    "            it + 1, cost(weights, bias, X, Y), acc\n",
    "        )\n",
    "    )\n",
    "print(params)"
   ]
  },
  {
   "cell_type": "code",
   "execution_count": 120,
   "id": "e401283a-40e1-4b92-8ad2-937455948f5e",
   "metadata": {},
   "outputs": [],
   "source": [
    "opt_weights = weights"
   ]
  },
  {
   "cell_type": "code",
   "execution_count": 121,
   "id": "e4beff99-7f8d-4c53-9700-041e68fca493",
   "metadata": {},
   "outputs": [
    {
     "data": {
      "text/plain": [
       "tensor([0.21097864, 4.56547731, 3.90377161, 3.99236746, 0.13792279,\n",
       "        4.8763316 , 5.20257472, 4.96202827, 4.93813199], requires_grad=True)"
      ]
     },
     "execution_count": 121,
     "metadata": {},
     "output_type": "execute_result"
    }
   ],
   "source": [
    "opt_weights"
   ]
  },
  {
   "cell_type": "code",
   "execution_count": null,
   "id": "3d18f41b-2fd9-4876-ae8a-b6bc8d6d6d45",
   "metadata": {},
   "outputs": [],
   "source": []
  }
 ],
 "metadata": {
  "kernelspec": {
   "display_name": "Python 3 (ipykernel)",
   "language": "python",
   "name": "python3"
  },
  "language_info": {
   "codemirror_mode": {
    "name": "ipython",
    "version": 3
   },
   "file_extension": ".py",
   "mimetype": "text/x-python",
   "name": "python",
   "nbconvert_exporter": "python",
   "pygments_lexer": "ipython3",
   "version": "3.10.10"
  }
 },
 "nbformat": 4,
 "nbformat_minor": 5
}
