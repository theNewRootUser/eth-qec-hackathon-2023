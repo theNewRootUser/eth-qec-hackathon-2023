{
 "cells": [
  {
   "cell_type": "code",
   "execution_count": 1,
   "id": "0651beac-93d8-466d-8ea7-91f0bee94a98",
   "metadata": {},
   "outputs": [],
   "source": [
    "import numpy as np"
   ]
  },
  {
   "cell_type": "code",
   "execution_count": 8,
   "id": "c1e89109-c2ec-4460-884c-651087e3f8de",
   "metadata": {},
   "outputs": [
    {
     "data": {
      "text/plain": [
       "(array([[1, 0],\n",
       "        [0, 1],\n",
       "        [1, 1],\n",
       "        [1, 1],\n",
       "        [0, 1]]),\n",
       " [1, 1, 0, 0, 1])"
      ]
     },
     "execution_count": 8,
     "metadata": {},
     "output_type": "execute_result"
    }
   ],
   "source": [
    "def create_data(n):\n",
    "    x = np.random.randint(2, size=(n,2))\n",
    "    y = [sum(a)%2 for a in x]\n",
    "    return x, y\n",
    "\n",
    "create_data(5)"
   ]
  },
  {
   "cell_type": "code",
   "execution_count": null,
   "id": "0cdee034-b5b8-476c-a6c2-48cd2304098b",
   "metadata": {},
   "outputs": [],
   "source": []
  }
 ],
 "metadata": {
  "kernelspec": {
   "display_name": "Python 3 (ipykernel)",
   "language": "python",
   "name": "python3"
  },
  "language_info": {
   "codemirror_mode": {
    "name": "ipython",
    "version": 3
   },
   "file_extension": ".py",
   "mimetype": "text/x-python",
   "name": "python",
   "nbconvert_exporter": "python",
   "pygments_lexer": "ipython3",
   "version": "3.10.10"
  }
 },
 "nbformat": 4,
 "nbformat_minor": 5
}
